{
 "cells": [
  {
   "cell_type": "markdown",
   "metadata": {},
   "source": [
    "# Amazon Product Review Sentiment Analysis using LSTM"
   ]
  },
  {
   "cell_type": "markdown",
   "metadata": {},
   "source": [
    "## Objective : \n",
    "The objective of this project is to find whether a Amazon product review is positive or negative. I have around 570K product's data. We have columns like Productid, userid, score, summary, Text etc. I used RNN-LSTM(Long short term memory) for sentiment analysis."
   ]
  },
  {
   "cell_type": "markdown",
   "metadata": {},
   "source": [
    "## Steps that I followed :\n",
    "1) Importing libraries <br>\n",
    "2) understanding data <br>\n",
    "3) removing missing values <br>\n",
    "4) data analysis <br>\n",
    "5) data visualization <br>\n",
    "6) LSTM implementation <br>\n",
    "7) some testing on trained model <br>"
   ]
  },
  {
   "cell_type": "markdown",
   "metadata": {},
   "source": [
    "## 1) Importing Libraries\n",
    "\n",
    "<b> pandas </b>: pandas is useful for dataframe manipulation, dataframe operations <br>\n",
    "<b> matplotlib,seaborn </b>: matplotlib and seaborn both are useful for data visualization <br>\n",
    "<b> string/punctuation  </b> : it is use for removing punctuations from review string <br>\n",
    "<b> tensorflow </b>: all tensorflow library are useful in implementing LSTM"
   ]
  },
  {
   "cell_type": "code",
   "execution_count": 299,
   "metadata": {},
   "outputs": [],
   "source": [
    "import pandas as pd\n",
    "import matplotlib.pyplot as plt\n",
    "import seaborn as sns \n",
    "from string import punctuation\n",
    "import warnings\n",
    "from collections import Counter\n",
    "import re\n",
    "import tensorflow as tf \n",
    "warnings.filterwarnings('ignore')\n",
    "from tensorflow.keras.preprocessing.text import Tokenizer\n",
    "from tensorflow.keras.preprocessing.sequence import pad_sequences\n",
    "from tensorflow.keras.models import Sequential\n",
    "from tensorflow.keras.layers import LSTM,Dense, Dropout,SpatialDropout1D,Embedding"
   ]
  },
  {
   "cell_type": "code",
   "execution_count": 237,
   "metadata": {},
   "outputs": [],
   "source": [
    "dataset = pd.read_csv('Amazon Product Reviews.csv')"
   ]
  },
  {
   "cell_type": "markdown",
   "metadata": {},
   "source": [
    "## 2) Understanding data\n",
    "\n",
    "dataset has 10 columns and 568454 rows. Important columns are productid, userid, score and text. "
   ]
  },
  {
   "cell_type": "code",
   "execution_count": 238,
   "metadata": {},
   "outputs": [
    {
     "data": {
      "text/html": [
       "<div>\n",
       "<style scoped>\n",
       "    .dataframe tbody tr th:only-of-type {\n",
       "        vertical-align: middle;\n",
       "    }\n",
       "\n",
       "    .dataframe tbody tr th {\n",
       "        vertical-align: top;\n",
       "    }\n",
       "\n",
       "    .dataframe thead th {\n",
       "        text-align: right;\n",
       "    }\n",
       "</style>\n",
       "<table border=\"1\" class=\"dataframe\">\n",
       "  <thead>\n",
       "    <tr style=\"text-align: right;\">\n",
       "      <th></th>\n",
       "      <th>Id</th>\n",
       "      <th>ProductId</th>\n",
       "      <th>UserId</th>\n",
       "      <th>ProfileName</th>\n",
       "      <th>HelpfulnessNumerator</th>\n",
       "      <th>HelpfulnessDenominator</th>\n",
       "      <th>Score</th>\n",
       "      <th>Time</th>\n",
       "      <th>Summary</th>\n",
       "      <th>Text</th>\n",
       "    </tr>\n",
       "  </thead>\n",
       "  <tbody>\n",
       "    <tr>\n",
       "      <th>0</th>\n",
       "      <td>1</td>\n",
       "      <td>B001E4KFG0</td>\n",
       "      <td>A3SGXH7AUHU8GW</td>\n",
       "      <td>delmartian</td>\n",
       "      <td>1</td>\n",
       "      <td>1</td>\n",
       "      <td>5</td>\n",
       "      <td>1303862400</td>\n",
       "      <td>Good Quality Dog Food</td>\n",
       "      <td>I have bought several of the Vitality canned d...</td>\n",
       "    </tr>\n",
       "    <tr>\n",
       "      <th>1</th>\n",
       "      <td>2</td>\n",
       "      <td>B00813GRG4</td>\n",
       "      <td>A1D87F6ZCVE5NK</td>\n",
       "      <td>dll pa</td>\n",
       "      <td>0</td>\n",
       "      <td>0</td>\n",
       "      <td>1</td>\n",
       "      <td>1346976000</td>\n",
       "      <td>Not as Advertised</td>\n",
       "      <td>Product arrived labeled as Jumbo Salted Peanut...</td>\n",
       "    </tr>\n",
       "    <tr>\n",
       "      <th>2</th>\n",
       "      <td>3</td>\n",
       "      <td>B000LQOCH0</td>\n",
       "      <td>ABXLMWJIXXAIN</td>\n",
       "      <td>Natalia Corres \"Natalia Corres\"</td>\n",
       "      <td>1</td>\n",
       "      <td>1</td>\n",
       "      <td>4</td>\n",
       "      <td>1219017600</td>\n",
       "      <td>\"Delight\" says it all</td>\n",
       "      <td>This is a confection that has been around a fe...</td>\n",
       "    </tr>\n",
       "    <tr>\n",
       "      <th>3</th>\n",
       "      <td>4</td>\n",
       "      <td>B000UA0QIQ</td>\n",
       "      <td>A395BORC6FGVXV</td>\n",
       "      <td>Karl</td>\n",
       "      <td>3</td>\n",
       "      <td>3</td>\n",
       "      <td>2</td>\n",
       "      <td>1307923200</td>\n",
       "      <td>Cough Medicine</td>\n",
       "      <td>If you are looking for the secret ingredient i...</td>\n",
       "    </tr>\n",
       "    <tr>\n",
       "      <th>4</th>\n",
       "      <td>5</td>\n",
       "      <td>B006K2ZZ7K</td>\n",
       "      <td>A1UQRSCLF8GW1T</td>\n",
       "      <td>Michael D. Bigham \"M. Wassir\"</td>\n",
       "      <td>0</td>\n",
       "      <td>0</td>\n",
       "      <td>5</td>\n",
       "      <td>1350777600</td>\n",
       "      <td>Great taffy</td>\n",
       "      <td>Great taffy at a great price.  There was a wid...</td>\n",
       "    </tr>\n",
       "    <tr>\n",
       "      <th>...</th>\n",
       "      <td>...</td>\n",
       "      <td>...</td>\n",
       "      <td>...</td>\n",
       "      <td>...</td>\n",
       "      <td>...</td>\n",
       "      <td>...</td>\n",
       "      <td>...</td>\n",
       "      <td>...</td>\n",
       "      <td>...</td>\n",
       "      <td>...</td>\n",
       "    </tr>\n",
       "    <tr>\n",
       "      <th>568449</th>\n",
       "      <td>568450</td>\n",
       "      <td>B001EO7N10</td>\n",
       "      <td>A28KG5XORO54AY</td>\n",
       "      <td>Lettie D. Carter</td>\n",
       "      <td>0</td>\n",
       "      <td>0</td>\n",
       "      <td>5</td>\n",
       "      <td>1299628800</td>\n",
       "      <td>Will not do without</td>\n",
       "      <td>Great for sesame chicken..this is a good if no...</td>\n",
       "    </tr>\n",
       "    <tr>\n",
       "      <th>568450</th>\n",
       "      <td>568451</td>\n",
       "      <td>B003S1WTCU</td>\n",
       "      <td>A3I8AFVPEE8KI5</td>\n",
       "      <td>R. Sawyer</td>\n",
       "      <td>0</td>\n",
       "      <td>0</td>\n",
       "      <td>2</td>\n",
       "      <td>1331251200</td>\n",
       "      <td>disappointed</td>\n",
       "      <td>I'm disappointed with the flavor. The chocolat...</td>\n",
       "    </tr>\n",
       "    <tr>\n",
       "      <th>568451</th>\n",
       "      <td>568452</td>\n",
       "      <td>B004I613EE</td>\n",
       "      <td>A121AA1GQV751Z</td>\n",
       "      <td>pksd \"pk_007\"</td>\n",
       "      <td>2</td>\n",
       "      <td>2</td>\n",
       "      <td>5</td>\n",
       "      <td>1329782400</td>\n",
       "      <td>Perfect for our maltipoo</td>\n",
       "      <td>These stars are small, so you can give 10-15 o...</td>\n",
       "    </tr>\n",
       "    <tr>\n",
       "      <th>568452</th>\n",
       "      <td>568453</td>\n",
       "      <td>B004I613EE</td>\n",
       "      <td>A3IBEVCTXKNOH</td>\n",
       "      <td>Kathy A. Welch \"katwel\"</td>\n",
       "      <td>1</td>\n",
       "      <td>1</td>\n",
       "      <td>5</td>\n",
       "      <td>1331596800</td>\n",
       "      <td>Favorite Training and reward treat</td>\n",
       "      <td>These are the BEST treats for training and rew...</td>\n",
       "    </tr>\n",
       "    <tr>\n",
       "      <th>568453</th>\n",
       "      <td>568454</td>\n",
       "      <td>B001LR2CU2</td>\n",
       "      <td>A3LGQPJCZVL9UC</td>\n",
       "      <td>srfell17</td>\n",
       "      <td>0</td>\n",
       "      <td>0</td>\n",
       "      <td>5</td>\n",
       "      <td>1338422400</td>\n",
       "      <td>Great Honey</td>\n",
       "      <td>I am very satisfied ,product is as advertised,...</td>\n",
       "    </tr>\n",
       "  </tbody>\n",
       "</table>\n",
       "<p>568454 rows × 10 columns</p>\n",
       "</div>"
      ],
      "text/plain": [
       "            Id   ProductId          UserId                      ProfileName  \\\n",
       "0            1  B001E4KFG0  A3SGXH7AUHU8GW                       delmartian   \n",
       "1            2  B00813GRG4  A1D87F6ZCVE5NK                           dll pa   \n",
       "2            3  B000LQOCH0   ABXLMWJIXXAIN  Natalia Corres \"Natalia Corres\"   \n",
       "3            4  B000UA0QIQ  A395BORC6FGVXV                             Karl   \n",
       "4            5  B006K2ZZ7K  A1UQRSCLF8GW1T    Michael D. Bigham \"M. Wassir\"   \n",
       "...        ...         ...             ...                              ...   \n",
       "568449  568450  B001EO7N10  A28KG5XORO54AY                 Lettie D. Carter   \n",
       "568450  568451  B003S1WTCU  A3I8AFVPEE8KI5                        R. Sawyer   \n",
       "568451  568452  B004I613EE  A121AA1GQV751Z                    pksd \"pk_007\"   \n",
       "568452  568453  B004I613EE   A3IBEVCTXKNOH          Kathy A. Welch \"katwel\"   \n",
       "568453  568454  B001LR2CU2  A3LGQPJCZVL9UC                         srfell17   \n",
       "\n",
       "        HelpfulnessNumerator  HelpfulnessDenominator  Score        Time  \\\n",
       "0                          1                       1      5  1303862400   \n",
       "1                          0                       0      1  1346976000   \n",
       "2                          1                       1      4  1219017600   \n",
       "3                          3                       3      2  1307923200   \n",
       "4                          0                       0      5  1350777600   \n",
       "...                      ...                     ...    ...         ...   \n",
       "568449                     0                       0      5  1299628800   \n",
       "568450                     0                       0      2  1331251200   \n",
       "568451                     2                       2      5  1329782400   \n",
       "568452                     1                       1      5  1331596800   \n",
       "568453                     0                       0      5  1338422400   \n",
       "\n",
       "                                   Summary  \\\n",
       "0                    Good Quality Dog Food   \n",
       "1                        Not as Advertised   \n",
       "2                    \"Delight\" says it all   \n",
       "3                           Cough Medicine   \n",
       "4                              Great taffy   \n",
       "...                                    ...   \n",
       "568449                 Will not do without   \n",
       "568450                        disappointed   \n",
       "568451            Perfect for our maltipoo   \n",
       "568452  Favorite Training and reward treat   \n",
       "568453                         Great Honey   \n",
       "\n",
       "                                                     Text  \n",
       "0       I have bought several of the Vitality canned d...  \n",
       "1       Product arrived labeled as Jumbo Salted Peanut...  \n",
       "2       This is a confection that has been around a fe...  \n",
       "3       If you are looking for the secret ingredient i...  \n",
       "4       Great taffy at a great price.  There was a wid...  \n",
       "...                                                   ...  \n",
       "568449  Great for sesame chicken..this is a good if no...  \n",
       "568450  I'm disappointed with the flavor. The chocolat...  \n",
       "568451  These stars are small, so you can give 10-15 o...  \n",
       "568452  These are the BEST treats for training and rew...  \n",
       "568453  I am very satisfied ,product is as advertised,...  \n",
       "\n",
       "[568454 rows x 10 columns]"
      ]
     },
     "execution_count": 238,
     "metadata": {},
     "output_type": "execute_result"
    }
   ],
   "source": [
    "dataset"
   ]
  },
  {
   "cell_type": "markdown",
   "metadata": {},
   "source": [
    "### info() :\n",
    "<b> Info gives us each columns type and not null count. From the output we can say that productid, userid, profilename, summary and text are string columns and rest are integer. <b>"
   ]
  },
  {
   "cell_type": "code",
   "execution_count": 239,
   "metadata": {},
   "outputs": [
    {
     "name": "stdout",
     "output_type": "stream",
     "text": [
      "<class 'pandas.core.frame.DataFrame'>\n",
      "RangeIndex: 568454 entries, 0 to 568453\n",
      "Data columns (total 10 columns):\n",
      " #   Column                  Non-Null Count   Dtype \n",
      "---  ------                  --------------   ----- \n",
      " 0   Id                      568454 non-null  int64 \n",
      " 1   ProductId               568454 non-null  object\n",
      " 2   UserId                  568454 non-null  object\n",
      " 3   ProfileName             568438 non-null  object\n",
      " 4   HelpfulnessNumerator    568454 non-null  int64 \n",
      " 5   HelpfulnessDenominator  568454 non-null  int64 \n",
      " 6   Score                   568454 non-null  int64 \n",
      " 7   Time                    568454 non-null  int64 \n",
      " 8   Summary                 568427 non-null  object\n",
      " 9   Text                    568454 non-null  object\n",
      "dtypes: int64(5), object(5)\n",
      "memory usage: 43.4+ MB\n"
     ]
    }
   ],
   "source": [
    "dataset.info()"
   ]
  },
  {
   "cell_type": "markdown",
   "metadata": {},
   "source": [
    "### describe():\n",
    "<b> describe gives us statistical analysis of int as well as object type columns. From the output, we can say that mean of score is 4.183309 and standard deviaation of score is 1.310436. Describe gives us overview of data which can help in decision making. </b>"
   ]
  },
  {
   "cell_type": "code",
   "execution_count": 240,
   "metadata": {},
   "outputs": [
    {
     "data": {
      "text/html": [
       "<div>\n",
       "<style scoped>\n",
       "    .dataframe tbody tr th:only-of-type {\n",
       "        vertical-align: middle;\n",
       "    }\n",
       "\n",
       "    .dataframe tbody tr th {\n",
       "        vertical-align: top;\n",
       "    }\n",
       "\n",
       "    .dataframe thead th {\n",
       "        text-align: right;\n",
       "    }\n",
       "</style>\n",
       "<table border=\"1\" class=\"dataframe\">\n",
       "  <thead>\n",
       "    <tr style=\"text-align: right;\">\n",
       "      <th></th>\n",
       "      <th>Id</th>\n",
       "      <th>HelpfulnessNumerator</th>\n",
       "      <th>HelpfulnessDenominator</th>\n",
       "      <th>Score</th>\n",
       "      <th>Time</th>\n",
       "    </tr>\n",
       "  </thead>\n",
       "  <tbody>\n",
       "    <tr>\n",
       "      <th>count</th>\n",
       "      <td>568454.000000</td>\n",
       "      <td>568454.000000</td>\n",
       "      <td>568454.00000</td>\n",
       "      <td>568454.000000</td>\n",
       "      <td>5.684540e+05</td>\n",
       "    </tr>\n",
       "    <tr>\n",
       "      <th>mean</th>\n",
       "      <td>284227.500000</td>\n",
       "      <td>1.743817</td>\n",
       "      <td>2.22881</td>\n",
       "      <td>4.183199</td>\n",
       "      <td>1.296257e+09</td>\n",
       "    </tr>\n",
       "    <tr>\n",
       "      <th>std</th>\n",
       "      <td>164098.679298</td>\n",
       "      <td>7.636513</td>\n",
       "      <td>8.28974</td>\n",
       "      <td>1.310436</td>\n",
       "      <td>4.804331e+07</td>\n",
       "    </tr>\n",
       "    <tr>\n",
       "      <th>min</th>\n",
       "      <td>1.000000</td>\n",
       "      <td>0.000000</td>\n",
       "      <td>0.00000</td>\n",
       "      <td>1.000000</td>\n",
       "      <td>9.393408e+08</td>\n",
       "    </tr>\n",
       "    <tr>\n",
       "      <th>25%</th>\n",
       "      <td>142114.250000</td>\n",
       "      <td>0.000000</td>\n",
       "      <td>0.00000</td>\n",
       "      <td>4.000000</td>\n",
       "      <td>1.271290e+09</td>\n",
       "    </tr>\n",
       "    <tr>\n",
       "      <th>50%</th>\n",
       "      <td>284227.500000</td>\n",
       "      <td>0.000000</td>\n",
       "      <td>1.00000</td>\n",
       "      <td>5.000000</td>\n",
       "      <td>1.311120e+09</td>\n",
       "    </tr>\n",
       "    <tr>\n",
       "      <th>75%</th>\n",
       "      <td>426340.750000</td>\n",
       "      <td>2.000000</td>\n",
       "      <td>2.00000</td>\n",
       "      <td>5.000000</td>\n",
       "      <td>1.332720e+09</td>\n",
       "    </tr>\n",
       "    <tr>\n",
       "      <th>max</th>\n",
       "      <td>568454.000000</td>\n",
       "      <td>866.000000</td>\n",
       "      <td>923.00000</td>\n",
       "      <td>5.000000</td>\n",
       "      <td>1.351210e+09</td>\n",
       "    </tr>\n",
       "  </tbody>\n",
       "</table>\n",
       "</div>"
      ],
      "text/plain": [
       "                  Id  HelpfulnessNumerator  HelpfulnessDenominator  \\\n",
       "count  568454.000000         568454.000000            568454.00000   \n",
       "mean   284227.500000              1.743817                 2.22881   \n",
       "std    164098.679298              7.636513                 8.28974   \n",
       "min         1.000000              0.000000                 0.00000   \n",
       "25%    142114.250000              0.000000                 0.00000   \n",
       "50%    284227.500000              0.000000                 1.00000   \n",
       "75%    426340.750000              2.000000                 2.00000   \n",
       "max    568454.000000            866.000000               923.00000   \n",
       "\n",
       "               Score          Time  \n",
       "count  568454.000000  5.684540e+05  \n",
       "mean        4.183199  1.296257e+09  \n",
       "std         1.310436  4.804331e+07  \n",
       "min         1.000000  9.393408e+08  \n",
       "25%         4.000000  1.271290e+09  \n",
       "50%         5.000000  1.311120e+09  \n",
       "75%         5.000000  1.332720e+09  \n",
       "max         5.000000  1.351210e+09  "
      ]
     },
     "execution_count": 240,
     "metadata": {},
     "output_type": "execute_result"
    }
   ],
   "source": [
    "dataset.describe()"
   ]
  },
  {
   "cell_type": "markdown",
   "metadata": {},
   "source": [
    "## 3) Removing missing values\n",
    "\n",
    "<b> we need to check first that how many rows or columns have missing values. If we do not handle data well, then our analysis will have noise. There are multiple ways to handle data. 1) replacing with upper/lower value, 2) replacing with mean/median value in numeric data, 3) removing data. We first check if we have missing value or not using isnull() and take some of all missing value in a given column. We can see that profilename and summary has missing values."
   ]
  },
  {
   "cell_type": "raw",
   "metadata": {},
   "source": [
    "for col in dataset:\n",
    "    print(col + \": \" + str(dataset[col].isnull().values.any()) + \" count: \" + str(dataset[col].isnull().sum()))"
   ]
  },
  {
   "cell_type": "markdown",
   "metadata": {},
   "source": [
    "<b> Profilename has 16 value missing and Summary has 27 value missing. We have total 568454 rows of data. So if we remove this missing vlaue rows, then still our model will give accurate results as removing this values does not affect the overall outcomes. So we will remove missing rows by using dropna(). </b>"
   ]
  },
  {
   "cell_type": "code",
   "execution_count": 242,
   "metadata": {},
   "outputs": [],
   "source": [
    "dataset = dataset.dropna()"
   ]
  },
  {
   "cell_type": "markdown",
   "metadata": {},
   "source": [
    "<b> We can see that we have remove all missing values and we are ready for the next step. </b>"
   ]
  },
  {
   "cell_type": "code",
   "execution_count": 243,
   "metadata": {},
   "outputs": [
    {
     "name": "stdout",
     "output_type": "stream",
     "text": [
      "Id: False count: 0\n",
      "ProductId: False count: 0\n",
      "UserId: False count: 0\n",
      "ProfileName: False count: 0\n",
      "HelpfulnessNumerator: False count: 0\n",
      "HelpfulnessDenominator: False count: 0\n",
      "Score: False count: 0\n",
      "Time: False count: 0\n",
      "Summary: False count: 0\n",
      "Text: False count: 0\n"
     ]
    }
   ],
   "source": [
    "for col in dataset:\n",
    "    print(col + \": \" + str(dataset[col].isnull().values.any()) + \" count: \" + str(dataset[col].isnull().sum()))"
   ]
  },
  {
   "cell_type": "markdown",
   "metadata": {},
   "source": [
    "## 3-4) Data Analysis and Data Visualization\n",
    "\n",
    "Till now, we have understand the data. What fields are, which things are important and which aren not and we have handle data as well. Now we will explore each relevent columns and see what we can find from the data."
   ]
  },
  {
   "cell_type": "markdown",
   "metadata": {},
   "source": [
    "<b> Using score column, we can find that how many time people have give 5 ratings, 4 ratings and all. We can see that about 363K people have give 5 ratings while 52K people have give 1 rating. We use matplotlib and seaborn to visualize the result. </b>"
   ]
  },
  {
   "cell_type": "code",
   "execution_count": 244,
   "metadata": {},
   "outputs": [
    {
     "data": {
      "image/png": "[encoded data removed]",
      "text/plain": [
       "<Figure size 720x432 with 1 Axes>"
      ]
     },
     "metadata": {
      "needs_background": "light"
     },
     "output_type": "display_data"
    }
   ],
   "source": [
    "plt.figure(figsize=(10,6))\n",
    "ax = sns.countplot(x ='Score', data = dataset) \n",
    "plt.title('Ratings Distribution')\n",
    "plt.xlabel('Ratings')\n",
    "plt.ylabel('counts')\n",
    "for p in ax.patches:\n",
    "    ax.annotate('{}'.format(p.get_height()), (p.get_x()+0.27, p.get_height()+2000))\n",
    "plt.show()"
   ]
  },
  {
   "cell_type": "markdown",
   "metadata": {},
   "source": [
    "#### Data is mixed of different users. So now, I am finding how many people have bought a particular product. From the output, we can say that product with productid B007JFMH8M is highest bought product with 913 rows. We can say that people like this product very much and this product is very common. We can also see that there are 74258 unique products in our dataset."
   ]
  },
  {
   "cell_type": "code",
   "execution_count": 257,
   "metadata": {},
   "outputs": [
    {
     "name": "stdout",
     "output_type": "stream",
     "text": [
      "        ProductId  Counts\n",
      "71170  B007JFMH8M     913\n",
      "37898  B0026RQTGE     632\n",
      "42264  B002QWP8H0     632\n",
      "42257  B002QWHJOU     632\n",
      "42263  B002QWP89S     632\n",
      "...           ...     ...\n",
      "21719  B000YPQC08       1\n",
      "51301  B003YU5T6I       1\n",
      "21720  B000YPQC44       1\n",
      "21721  B000YPQE6U       1\n",
      "74257  B009WVB40S       1\n",
      "\n",
      "[74258 rows x 2 columns]\n"
     ]
    }
   ],
   "source": [
    "unique_product = dataset['ProductId'].value_counts().reset_index().sort_values('index',ascending=True)\n",
    "unique_product = unique_product.rename(columns = {'ProductId':'Counts','index':'ProductId'})\n",
    "unique_product = unique_product.reset_index(drop=True)\n",
    "print(unique_product.sort_values('Counts', ascending = False))"
   ]
  },
  {
   "cell_type": "markdown",
   "metadata": {},
   "source": [
    "<b> Now we have seen that multiple user have bought same products. So their ratings also will be a different. So now, we will find average score of each product. From the average and number of reviews, we can predict whether people likes a product or not. </b>"
   ]
  },
  {
   "cell_type": "code",
   "execution_count": 246,
   "metadata": {},
   "outputs": [],
   "source": [
    "average_score_count = dataset.groupby(['ProductId','Score']).Score.sum().reset_index(name='TotalReview')\n",
    "total_review_count = average_score_count.groupby('ProductId')['TotalReview'].sum().reset_index(name='TotalReview').sort_values('ProductId', ascending = True)"
   ]
  },
  {
   "cell_type": "code",
   "execution_count": 247,
   "metadata": {},
   "outputs": [
    {
     "data": {
      "text/html": [
       "<div>\n",
       "<style scoped>\n",
       "    .dataframe tbody tr th:only-of-type {\n",
       "        vertical-align: middle;\n",
       "    }\n",
       "\n",
       "    .dataframe tbody tr th {\n",
       "        vertical-align: top;\n",
       "    }\n",
       "\n",
       "    .dataframe thead th {\n",
       "        text-align: right;\n",
       "    }\n",
       "</style>\n",
       "<table border=\"1\" class=\"dataframe\">\n",
       "  <thead>\n",
       "    <tr style=\"text-align: right;\">\n",
       "      <th></th>\n",
       "      <th>ProductId</th>\n",
       "      <th>TotalReview</th>\n",
       "      <th>ProductCount</th>\n",
       "      <th>AverageScore</th>\n",
       "    </tr>\n",
       "  </thead>\n",
       "  <tbody>\n",
       "    <tr>\n",
       "      <th>0</th>\n",
       "      <td>0006641040</td>\n",
       "      <td>161</td>\n",
       "      <td>37</td>\n",
       "      <td>4.35</td>\n",
       "    </tr>\n",
       "    <tr>\n",
       "      <th>1</th>\n",
       "      <td>141278509X</td>\n",
       "      <td>5</td>\n",
       "      <td>1</td>\n",
       "      <td>5.00</td>\n",
       "    </tr>\n",
       "    <tr>\n",
       "      <th>2</th>\n",
       "      <td>2734888454</td>\n",
       "      <td>7</td>\n",
       "      <td>2</td>\n",
       "      <td>3.50</td>\n",
       "    </tr>\n",
       "    <tr>\n",
       "      <th>3</th>\n",
       "      <td>2841233731</td>\n",
       "      <td>5</td>\n",
       "      <td>1</td>\n",
       "      <td>5.00</td>\n",
       "    </tr>\n",
       "    <tr>\n",
       "      <th>4</th>\n",
       "      <td>7310172001</td>\n",
       "      <td>822</td>\n",
       "      <td>173</td>\n",
       "      <td>4.75</td>\n",
       "    </tr>\n",
       "    <tr>\n",
       "      <th>...</th>\n",
       "      <td>...</td>\n",
       "      <td>...</td>\n",
       "      <td>...</td>\n",
       "      <td>...</td>\n",
       "    </tr>\n",
       "    <tr>\n",
       "      <th>74253</th>\n",
       "      <td>B009UOFTUI</td>\n",
       "      <td>1</td>\n",
       "      <td>1</td>\n",
       "      <td>1.00</td>\n",
       "    </tr>\n",
       "    <tr>\n",
       "      <th>74254</th>\n",
       "      <td>B009UOFU20</td>\n",
       "      <td>1</td>\n",
       "      <td>1</td>\n",
       "      <td>1.00</td>\n",
       "    </tr>\n",
       "    <tr>\n",
       "      <th>74255</th>\n",
       "      <td>B009UUS05I</td>\n",
       "      <td>5</td>\n",
       "      <td>1</td>\n",
       "      <td>5.00</td>\n",
       "    </tr>\n",
       "    <tr>\n",
       "      <th>74256</th>\n",
       "      <td>B009WSNWC4</td>\n",
       "      <td>5</td>\n",
       "      <td>1</td>\n",
       "      <td>5.00</td>\n",
       "    </tr>\n",
       "    <tr>\n",
       "      <th>74257</th>\n",
       "      <td>B009WVB40S</td>\n",
       "      <td>5</td>\n",
       "      <td>1</td>\n",
       "      <td>5.00</td>\n",
       "    </tr>\n",
       "  </tbody>\n",
       "</table>\n",
       "<p>74258 rows × 4 columns</p>\n",
       "</div>"
      ],
      "text/plain": [
       "        ProductId  TotalReview  ProductCount  AverageScore\n",
       "0      0006641040          161            37          4.35\n",
       "1      141278509X            5             1          5.00\n",
       "2      2734888454            7             2          3.50\n",
       "3      2841233731            5             1          5.00\n",
       "4      7310172001          822           173          4.75\n",
       "...           ...          ...           ...           ...\n",
       "74253  B009UOFTUI            1             1          1.00\n",
       "74254  B009UOFU20            1             1          1.00\n",
       "74255  B009UUS05I            5             1          5.00\n",
       "74256  B009WSNWC4            5             1          5.00\n",
       "74257  B009WVB40S            5             1          5.00\n",
       "\n",
       "[74258 rows x 4 columns]"
      ]
     },
     "execution_count": 247,
     "metadata": {},
     "output_type": "execute_result"
    }
   ],
   "source": [
    "total_review_count['ProductCount'] = unique_product['Counts']\n",
    "total_review_count['AverageScore'] = round(total_review_count['TotalReview'] / total_review_count['ProductCount'],2)\n",
    "total_review_count"
   ]
  },
  {
   "cell_type": "markdown",
   "metadata": {},
   "source": [
    "<b> To trust any ratings, we need to put some threshold on number of reviews. I am finding reviews with greater than 200 review on that product. So we can rely on ratings more as more people have give their opinion about product. We can see that only 300 product have more than 200 reviews. </b>"
   ]
  },
  {
   "cell_type": "code",
   "execution_count": 248,
   "metadata": {},
   "outputs": [
    {
     "data": {
      "text/html": [
       "<div>\n",
       "<style scoped>\n",
       "    .dataframe tbody tr th:only-of-type {\n",
       "        vertical-align: middle;\n",
       "    }\n",
       "\n",
       "    .dataframe tbody tr th {\n",
       "        vertical-align: top;\n",
       "    }\n",
       "\n",
       "    .dataframe thead th {\n",
       "        text-align: right;\n",
       "    }\n",
       "</style>\n",
       "<table border=\"1\" class=\"dataframe\">\n",
       "  <thead>\n",
       "    <tr style=\"text-align: right;\">\n",
       "      <th></th>\n",
       "      <th>ProductId</th>\n",
       "      <th>TotalReview</th>\n",
       "      <th>ProductCount</th>\n",
       "      <th>AverageScore</th>\n",
       "    </tr>\n",
       "  </thead>\n",
       "  <tbody>\n",
       "    <tr>\n",
       "      <th>0</th>\n",
       "      <td>B004OAZ36I</td>\n",
       "      <td>871</td>\n",
       "      <td>286</td>\n",
       "      <td>3.05</td>\n",
       "    </tr>\n",
       "    <tr>\n",
       "      <th>1</th>\n",
       "      <td>B0083T5TAQ</td>\n",
       "      <td>871</td>\n",
       "      <td>286</td>\n",
       "      <td>3.05</td>\n",
       "    </tr>\n",
       "    <tr>\n",
       "      <th>2</th>\n",
       "      <td>B006Q820X0</td>\n",
       "      <td>781</td>\n",
       "      <td>252</td>\n",
       "      <td>3.10</td>\n",
       "    </tr>\n",
       "    <tr>\n",
       "      <th>3</th>\n",
       "      <td>B009RB4GO4</td>\n",
       "      <td>789</td>\n",
       "      <td>251</td>\n",
       "      <td>3.14</td>\n",
       "    </tr>\n",
       "    <tr>\n",
       "      <th>4</th>\n",
       "      <td>B0041NYV8E</td>\n",
       "      <td>1419</td>\n",
       "      <td>452</td>\n",
       "      <td>3.14</td>\n",
       "    </tr>\n",
       "    <tr>\n",
       "      <th>...</th>\n",
       "      <td>...</td>\n",
       "      <td>...</td>\n",
       "      <td>...</td>\n",
       "      <td>...</td>\n",
       "    </tr>\n",
       "    <tr>\n",
       "      <th>297</th>\n",
       "      <td>B000GAT6NG</td>\n",
       "      <td>1868</td>\n",
       "      <td>389</td>\n",
       "      <td>4.80</td>\n",
       "    </tr>\n",
       "    <tr>\n",
       "      <th>298</th>\n",
       "      <td>B004EAGP74</td>\n",
       "      <td>1868</td>\n",
       "      <td>389</td>\n",
       "      <td>4.80</td>\n",
       "    </tr>\n",
       "    <tr>\n",
       "      <th>299</th>\n",
       "      <td>B001E8DHPW</td>\n",
       "      <td>1868</td>\n",
       "      <td>389</td>\n",
       "      <td>4.80</td>\n",
       "    </tr>\n",
       "    <tr>\n",
       "      <th>300</th>\n",
       "      <td>B003QDRJXY</td>\n",
       "      <td>1277</td>\n",
       "      <td>264</td>\n",
       "      <td>4.84</td>\n",
       "    </tr>\n",
       "    <tr>\n",
       "      <th>301</th>\n",
       "      <td>B000NMJWZO</td>\n",
       "      <td>2646</td>\n",
       "      <td>542</td>\n",
       "      <td>4.88</td>\n",
       "    </tr>\n",
       "  </tbody>\n",
       "</table>\n",
       "<p>302 rows × 4 columns</p>\n",
       "</div>"
      ],
      "text/plain": [
       "      ProductId  TotalReview  ProductCount  AverageScore\n",
       "0    B004OAZ36I          871           286          3.05\n",
       "1    B0083T5TAQ          871           286          3.05\n",
       "2    B006Q820X0          781           252          3.10\n",
       "3    B009RB4GO4          789           251          3.14\n",
       "4    B0041NYV8E         1419           452          3.14\n",
       "..          ...          ...           ...           ...\n",
       "297  B000GAT6NG         1868           389          4.80\n",
       "298  B004EAGP74         1868           389          4.80\n",
       "299  B001E8DHPW         1868           389          4.80\n",
       "300  B003QDRJXY         1277           264          4.84\n",
       "301  B000NMJWZO         2646           542          4.88\n",
       "\n",
       "[302 rows x 4 columns]"
      ]
     },
     "execution_count": 248,
     "metadata": {},
     "output_type": "execute_result"
    }
   ],
   "source": [
    "total_review_count_sorted = total_review_count[total_review_count['ProductCount'] > 200].sort_values('AverageScore').reset_index(drop=True)\n",
    "total_review_count_sorted"
   ]
  },
  {
   "cell_type": "markdown",
   "metadata": {},
   "source": [
    "<b> Now we will visualize above table average score. We can see that ratings 4.49 has hightest counts. So we cansay that more products have average 4.49 ratings than others. Some of them has higher ratings nad some of them has lower ratings. </b>"
   ]
  },
  {
   "cell_type": "code",
   "execution_count": 249,
   "metadata": {},
   "outputs": [
    {
     "data": {
      "image/png": "[encoded data removed]",
      "text/plain": [
       "<Figure size 1800x720 with 1 Axes>"
      ]
     },
     "metadata": {
      "needs_background": "light"
     },
     "output_type": "display_data"
    },
    {
     "data": {
      "image/png": "[encoded data removed]",
      "text/plain": [
       "<Figure size 1800x720 with 1 Axes>"
      ]
     },
     "metadata": {
      "needs_background": "light"
     },
     "output_type": "display_data"
    },
    {
     "data": {
      "image/png": "[encoded data removed]",
      "text/plain": [
       "<Figure size 1800x720 with 1 Axes>"
      ]
     },
     "metadata": {
      "needs_background": "light"
     },
     "output_type": "display_data"
    }
   ],
   "source": [
    "for i in range(1,len(total_review_count_sorted),101):\n",
    "    plt.figure(figsize=(25,10))\n",
    "    ax = sns.countplot(x ='AverageScore', data = total_review_count_sorted.iloc[i:i+101]) \n",
    "    plt.title('Ratings Distribution of score whose product review counts are more than 200')\n",
    "    plt.xlabel('Ratings')\n",
    "    plt.ylabel('counts')\n",
    "    plt.show()"
   ]
  },
  {
   "cell_type": "markdown",
   "metadata": {},
   "source": [
    "<b> Till now, we have explore data from product side. Now we will look that how many products are bought by users. We will find how many products each users have bought. From the output below, we cansat that userid with A3OXHLG6DIBRW8 and profile name 'C. F. Hill \"CFH\" has bought highest prodcuts ( 448 products). </b>"
   ]
  },
  {
   "cell_type": "code",
   "execution_count": 250,
   "metadata": {},
   "outputs": [
    {
     "data": {
      "text/html": [
       "<div>\n",
       "<style scoped>\n",
       "    .dataframe tbody tr th:only-of-type {\n",
       "        vertical-align: middle;\n",
       "    }\n",
       "\n",
       "    .dataframe tbody tr th {\n",
       "        vertical-align: top;\n",
       "    }\n",
       "\n",
       "    .dataframe thead th {\n",
       "        text-align: right;\n",
       "    }\n",
       "</style>\n",
       "<table border=\"1\" class=\"dataframe\">\n",
       "  <thead>\n",
       "    <tr style=\"text-align: right;\">\n",
       "      <th></th>\n",
       "      <th>UserId</th>\n",
       "      <th>ProfileName</th>\n",
       "      <th>Count</th>\n",
       "    </tr>\n",
       "  </thead>\n",
       "  <tbody>\n",
       "    <tr>\n",
       "      <th>182042</th>\n",
       "      <td>A3OXHLG6DIBRW8</td>\n",
       "      <td>C. F. Hill \"CFH\"</td>\n",
       "      <td>448</td>\n",
       "    </tr>\n",
       "    <tr>\n",
       "      <th>65599</th>\n",
       "      <td>A1YUL9PCJR3JTY</td>\n",
       "      <td>O. Brown \"Ms. O. Khannah-Brown\"</td>\n",
       "      <td>421</td>\n",
       "    </tr>\n",
       "    <tr>\n",
       "      <th>252312</th>\n",
       "      <td>AY12DBB0U420B</td>\n",
       "      <td>Gary Peterson</td>\n",
       "      <td>389</td>\n",
       "    </tr>\n",
       "    <tr>\n",
       "      <th>82934</th>\n",
       "      <td>A281NPSIMI1C2R</td>\n",
       "      <td>Rebecca of Amazon \"The Rebecca Review\"</td>\n",
       "      <td>365</td>\n",
       "    </tr>\n",
       "    <tr>\n",
       "      <th>66175</th>\n",
       "      <td>A1Z54EM24Y40LL</td>\n",
       "      <td>c2</td>\n",
       "      <td>256</td>\n",
       "    </tr>\n",
       "    <tr>\n",
       "      <th>...</th>\n",
       "      <td>...</td>\n",
       "      <td>...</td>\n",
       "      <td>...</td>\n",
       "    </tr>\n",
       "    <tr>\n",
       "      <th>101210</th>\n",
       "      <td>A2HRJ9LQ8ONG2S</td>\n",
       "      <td>Nicole Bennett</td>\n",
       "      <td>1</td>\n",
       "    </tr>\n",
       "    <tr>\n",
       "      <th>101211</th>\n",
       "      <td>A2HRJMGPNEF3DF</td>\n",
       "      <td>Linda J. Mcdonell \"Linda Mac\"</td>\n",
       "      <td>1</td>\n",
       "    </tr>\n",
       "    <tr>\n",
       "      <th>101212</th>\n",
       "      <td>A2HRKI86DC1MOQ</td>\n",
       "      <td>vanbushden</td>\n",
       "      <td>1</td>\n",
       "    </tr>\n",
       "    <tr>\n",
       "      <th>101213</th>\n",
       "      <td>A2HRKQ55KIZVO3</td>\n",
       "      <td>ridinghood</td>\n",
       "      <td>1</td>\n",
       "    </tr>\n",
       "    <tr>\n",
       "      <th>256096</th>\n",
       "      <td>AZZZOVIBXHGDR</td>\n",
       "      <td>Logan R. Freijo</td>\n",
       "      <td>1</td>\n",
       "    </tr>\n",
       "  </tbody>\n",
       "</table>\n",
       "<p>256097 rows × 3 columns</p>\n",
       "</div>"
      ],
      "text/plain": [
       "                UserId                             ProfileName  Count\n",
       "182042  A3OXHLG6DIBRW8                        C. F. Hill \"CFH\"    448\n",
       "65599   A1YUL9PCJR3JTY         O. Brown \"Ms. O. Khannah-Brown\"    421\n",
       "252312   AY12DBB0U420B                           Gary Peterson    389\n",
       "82934   A281NPSIMI1C2R  Rebecca of Amazon \"The Rebecca Review\"    365\n",
       "66175   A1Z54EM24Y40LL                                      c2    256\n",
       "...                ...                                     ...    ...\n",
       "101210  A2HRJ9LQ8ONG2S                          Nicole Bennett      1\n",
       "101211  A2HRJMGPNEF3DF           Linda J. Mcdonell \"Linda Mac\"      1\n",
       "101212  A2HRKI86DC1MOQ                              vanbushden      1\n",
       "101213  A2HRKQ55KIZVO3                              ridinghood      1\n",
       "256096   AZZZOVIBXHGDR                         Logan R. Freijo      1\n",
       "\n",
       "[256097 rows x 3 columns]"
      ]
     },
     "execution_count": 250,
     "metadata": {},
     "output_type": "execute_result"
    }
   ],
   "source": [
    "dataset.groupby(['UserId','ProfileName']).size().reset_index(name=\"Count\").sort_values(['Count'],ascending=False)"
   ]
  },
  {
   "cell_type": "markdown",
   "metadata": {},
   "source": [
    "## 6) LSTM implementation \n",
    "\n",
    "So far we did data preprocessing, analysis and visualize data. Now we will implement LSTM. There are three columns that I have not used. HelfulnessNumerator, helpfullnessdenominator, summary and time. There is no description of these columns which is why  We will drop these columns. "
   ]
  },
  {
   "cell_type": "code",
   "execution_count": 251,
   "metadata": {},
   "outputs": [],
   "source": [
    "dataset = dataset.drop( columns = {'HelpfulnessNumerator','HelpfulnessDenominator','Time'})"
   ]
  },
  {
   "cell_type": "markdown",
   "metadata": {},
   "source": [
    "<b> Machine learning model only understands data in numerical form. SO we will create a one column call \"sentiment\". From the score column, we will create a sentiment column by giving value 1 to score greather and equals to 3. So every score 3 and above 3 is considered as positive and rest are negative reviews. These will help us in training out model. So, our feature will be text column and ground truth will be sentiment column. </b>"
   ]
  },
  {
   "cell_type": "code",
   "execution_count": 252,
   "metadata": {},
   "outputs": [
    {
     "data": {
      "text/html": [
       "<div>\n",
       "<style scoped>\n",
       "    .dataframe tbody tr th:only-of-type {\n",
       "        vertical-align: middle;\n",
       "    }\n",
       "\n",
       "    .dataframe tbody tr th {\n",
       "        vertical-align: top;\n",
       "    }\n",
       "\n",
       "    .dataframe thead th {\n",
       "        text-align: right;\n",
       "    }\n",
       "</style>\n",
       "<table border=\"1\" class=\"dataframe\">\n",
       "  <thead>\n",
       "    <tr style=\"text-align: right;\">\n",
       "      <th></th>\n",
       "      <th>Id</th>\n",
       "      <th>ProductId</th>\n",
       "      <th>UserId</th>\n",
       "      <th>ProfileName</th>\n",
       "      <th>Score</th>\n",
       "      <th>Summary</th>\n",
       "      <th>Text</th>\n",
       "      <th>Sentiment</th>\n",
       "    </tr>\n",
       "  </thead>\n",
       "  <tbody>\n",
       "    <tr>\n",
       "      <th>0</th>\n",
       "      <td>1</td>\n",
       "      <td>B001E4KFG0</td>\n",
       "      <td>A3SGXH7AUHU8GW</td>\n",
       "      <td>delmartian</td>\n",
       "      <td>5</td>\n",
       "      <td>Good Quality Dog Food</td>\n",
       "      <td>I have bought several of the Vitality canned d...</td>\n",
       "      <td>1</td>\n",
       "    </tr>\n",
       "    <tr>\n",
       "      <th>1</th>\n",
       "      <td>2</td>\n",
       "      <td>B00813GRG4</td>\n",
       "      <td>A1D87F6ZCVE5NK</td>\n",
       "      <td>dll pa</td>\n",
       "      <td>1</td>\n",
       "      <td>Not as Advertised</td>\n",
       "      <td>Product arrived labeled as Jumbo Salted Peanut...</td>\n",
       "      <td>0</td>\n",
       "    </tr>\n",
       "    <tr>\n",
       "      <th>2</th>\n",
       "      <td>3</td>\n",
       "      <td>B000LQOCH0</td>\n",
       "      <td>ABXLMWJIXXAIN</td>\n",
       "      <td>Natalia Corres \"Natalia Corres\"</td>\n",
       "      <td>4</td>\n",
       "      <td>\"Delight\" says it all</td>\n",
       "      <td>This is a confection that has been around a fe...</td>\n",
       "      <td>1</td>\n",
       "    </tr>\n",
       "    <tr>\n",
       "      <th>3</th>\n",
       "      <td>4</td>\n",
       "      <td>B000UA0QIQ</td>\n",
       "      <td>A395BORC6FGVXV</td>\n",
       "      <td>Karl</td>\n",
       "      <td>2</td>\n",
       "      <td>Cough Medicine</td>\n",
       "      <td>If you are looking for the secret ingredient i...</td>\n",
       "      <td>0</td>\n",
       "    </tr>\n",
       "    <tr>\n",
       "      <th>4</th>\n",
       "      <td>5</td>\n",
       "      <td>B006K2ZZ7K</td>\n",
       "      <td>A1UQRSCLF8GW1T</td>\n",
       "      <td>Michael D. Bigham \"M. Wassir\"</td>\n",
       "      <td>5</td>\n",
       "      <td>Great taffy</td>\n",
       "      <td>Great taffy at a great price.  There was a wid...</td>\n",
       "      <td>1</td>\n",
       "    </tr>\n",
       "    <tr>\n",
       "      <th>...</th>\n",
       "      <td>...</td>\n",
       "      <td>...</td>\n",
       "      <td>...</td>\n",
       "      <td>...</td>\n",
       "      <td>...</td>\n",
       "      <td>...</td>\n",
       "      <td>...</td>\n",
       "      <td>...</td>\n",
       "    </tr>\n",
       "    <tr>\n",
       "      <th>568449</th>\n",
       "      <td>568450</td>\n",
       "      <td>B001EO7N10</td>\n",
       "      <td>A28KG5XORO54AY</td>\n",
       "      <td>Lettie D. Carter</td>\n",
       "      <td>5</td>\n",
       "      <td>Will not do without</td>\n",
       "      <td>Great for sesame chicken..this is a good if no...</td>\n",
       "      <td>1</td>\n",
       "    </tr>\n",
       "    <tr>\n",
       "      <th>568450</th>\n",
       "      <td>568451</td>\n",
       "      <td>B003S1WTCU</td>\n",
       "      <td>A3I8AFVPEE8KI5</td>\n",
       "      <td>R. Sawyer</td>\n",
       "      <td>2</td>\n",
       "      <td>disappointed</td>\n",
       "      <td>I'm disappointed with the flavor. The chocolat...</td>\n",
       "      <td>0</td>\n",
       "    </tr>\n",
       "    <tr>\n",
       "      <th>568451</th>\n",
       "      <td>568452</td>\n",
       "      <td>B004I613EE</td>\n",
       "      <td>A121AA1GQV751Z</td>\n",
       "      <td>pksd \"pk_007\"</td>\n",
       "      <td>5</td>\n",
       "      <td>Perfect for our maltipoo</td>\n",
       "      <td>These stars are small, so you can give 10-15 o...</td>\n",
       "      <td>1</td>\n",
       "    </tr>\n",
       "    <tr>\n",
       "      <th>568452</th>\n",
       "      <td>568453</td>\n",
       "      <td>B004I613EE</td>\n",
       "      <td>A3IBEVCTXKNOH</td>\n",
       "      <td>Kathy A. Welch \"katwel\"</td>\n",
       "      <td>5</td>\n",
       "      <td>Favorite Training and reward treat</td>\n",
       "      <td>These are the BEST treats for training and rew...</td>\n",
       "      <td>1</td>\n",
       "    </tr>\n",
       "    <tr>\n",
       "      <th>568453</th>\n",
       "      <td>568454</td>\n",
       "      <td>B001LR2CU2</td>\n",
       "      <td>A3LGQPJCZVL9UC</td>\n",
       "      <td>srfell17</td>\n",
       "      <td>5</td>\n",
       "      <td>Great Honey</td>\n",
       "      <td>I am very satisfied ,product is as advertised,...</td>\n",
       "      <td>1</td>\n",
       "    </tr>\n",
       "  </tbody>\n",
       "</table>\n",
       "<p>568411 rows × 8 columns</p>\n",
       "</div>"
      ],
      "text/plain": [
       "            Id   ProductId          UserId                      ProfileName  \\\n",
       "0            1  B001E4KFG0  A3SGXH7AUHU8GW                       delmartian   \n",
       "1            2  B00813GRG4  A1D87F6ZCVE5NK                           dll pa   \n",
       "2            3  B000LQOCH0   ABXLMWJIXXAIN  Natalia Corres \"Natalia Corres\"   \n",
       "3            4  B000UA0QIQ  A395BORC6FGVXV                             Karl   \n",
       "4            5  B006K2ZZ7K  A1UQRSCLF8GW1T    Michael D. Bigham \"M. Wassir\"   \n",
       "...        ...         ...             ...                              ...   \n",
       "568449  568450  B001EO7N10  A28KG5XORO54AY                 Lettie D. Carter   \n",
       "568450  568451  B003S1WTCU  A3I8AFVPEE8KI5                        R. Sawyer   \n",
       "568451  568452  B004I613EE  A121AA1GQV751Z                    pksd \"pk_007\"   \n",
       "568452  568453  B004I613EE   A3IBEVCTXKNOH          Kathy A. Welch \"katwel\"   \n",
       "568453  568454  B001LR2CU2  A3LGQPJCZVL9UC                         srfell17   \n",
       "\n",
       "        Score                             Summary  \\\n",
       "0           5               Good Quality Dog Food   \n",
       "1           1                   Not as Advertised   \n",
       "2           4               \"Delight\" says it all   \n",
       "3           2                      Cough Medicine   \n",
       "4           5                         Great taffy   \n",
       "...       ...                                 ...   \n",
       "568449      5                 Will not do without   \n",
       "568450      2                        disappointed   \n",
       "568451      5            Perfect for our maltipoo   \n",
       "568452      5  Favorite Training and reward treat   \n",
       "568453      5                         Great Honey   \n",
       "\n",
       "                                                     Text  Sentiment  \n",
       "0       I have bought several of the Vitality canned d...          1  \n",
       "1       Product arrived labeled as Jumbo Salted Peanut...          0  \n",
       "2       This is a confection that has been around a fe...          1  \n",
       "3       If you are looking for the secret ingredient i...          0  \n",
       "4       Great taffy at a great price.  There was a wid...          1  \n",
       "...                                                   ...        ...  \n",
       "568449  Great for sesame chicken..this is a good if no...          1  \n",
       "568450  I'm disappointed with the flavor. The chocolat...          0  \n",
       "568451  These stars are small, so you can give 10-15 o...          1  \n",
       "568452  These are the BEST treats for training and rew...          1  \n",
       "568453  I am very satisfied ,product is as advertised,...          1  \n",
       "\n",
       "[568411 rows x 8 columns]"
      ]
     },
     "execution_count": 252,
     "metadata": {},
     "output_type": "execute_result"
    }
   ],
   "source": [
    "dataset['Sentiment'] = 0\n",
    "dataset['Sentiment'][dataset.Score >= 3] = 1\n",
    "dataset"
   ]
  },
  {
   "cell_type": "markdown",
   "metadata": {},
   "source": [
    "<b> We can see that over 85% reviews are positive and around 15% review are negative. </b>"
   ]
  },
  {
   "cell_type": "code",
   "execution_count": 253,
   "metadata": {},
   "outputs": [
    {
     "data": {
      "image/png": "[encoded data removed]",
      "text/plain": [
       "<Figure size 720x432 with 1 Axes>"
      ]
     },
     "metadata": {
      "needs_background": "light"
     },
     "output_type": "display_data"
    }
   ],
   "source": [
    "plt.figure(figsize=(10,6))\n",
    "ax = sns.countplot(x = 'Sentiment',data = dataset)\n",
    "plt.xticks([0,1],['Negative','Positive'])\n",
    "plt.title('Review classification in percentage')\n",
    "for p in ax.patches:\n",
    "    ax.annotate('{:.2f}%'.format(100 * p.get_height()/len(dataset)), (p.get_x()+0.36, p.get_height()+2000))\n",
    "plt.show()"
   ]
  },
  {
   "cell_type": "markdown",
   "metadata": {},
   "source": [
    "<b> we will find average length of reviews to convert each reviews into same length. We first remove punctuations so 'don;t' and dont will not count as different word. </b>"
   ]
  },
  {
   "cell_type": "code",
   "execution_count": 254,
   "metadata": {},
   "outputs": [
    {
     "name": "stdout",
     "output_type": "stream",
     "text": [
      "Number of reviews = 568411 and length of all reviews = 238054928\n",
      "Average length of a review 418.81\n"
     ]
    }
   ],
   "source": [
    "count,sums = 0,0\n",
    "for each_review in text_list:\n",
    "    count += 1\n",
    "    sums += len(each_review)\n",
    "\n",
    "print(\"Number of reviews = {} and length of all reviews = {}\".format(count,sums))\n",
    "print(\"Average length of a review {:.2f}\".format(sums/count))"
   ]
  },
  {
   "cell_type": "code",
   "execution_count": 255,
   "metadata": {},
   "outputs": [],
   "source": [
    "dataset['Text'] = dataset['Text'].str.lower()\n",
    "dataset['Text'] = dataset['Text'].str.replace('[{}]'.format(punctuation), '')"
   ]
  },
  {
   "cell_type": "markdown",
   "metadata": {},
   "source": [
    "<b> First we convert Text column into list. Then we will Initialize the tokenizer with a length of Text column as word limit. This is the number of words we would like to encode. we call fit_on_texts to create associations of words and numbers. </b>\n"
   ]
  },
  {
   "cell_type": "code",
   "execution_count": 47,
   "metadata": {},
   "outputs": [],
   "source": [
    "text_list = dataset.Text.to_list()\n",
    "tokenizer = Tokenizer(num_words=len(text_list))\n",
    "tokenizer.fit_on_texts(text_list)\n",
    "vocab_size = len(tokenizer.word_index) + 1\n",
    "encoded_docs = tokenizer.texts_to_sequences(text_list)\n",
    "padded_sequence = pad_sequences(encoded_docs, maxlen=400)"
   ]
  },
  {
   "cell_type": "markdown",
   "metadata": {},
   "source": [
    "<b> texts_to_sequences will repalce all the words in review with their respective associated numbers. THe output for this is shown below. </b>"
   ]
  },
  {
   "cell_type": "code",
   "execution_count": 48,
   "metadata": {},
   "outputs": [
    {
     "name": "stdout",
     "output_type": "stream",
     "text": [
      "i have bought several of the vitality canned dog food products and have found them all to be of good quality the product looks more like a stew than a processed meat and it smells better my labrador is finicky and she appreciates this product better than  most\n",
      "[2, 16, 121, 306, 7, 1, 5312, 505, 104, 55, 209, 3, 16, 114, 28, 41, 5, 30, 7, 29, 185, 1, 42, 604, 47, 25, 4, 2646, 57, 4, 1209, 449, 3, 6, 602, 99, 12, 5500, 8, 1771, 3, 95, 9094, 9, 42, 99, 57, 134]\n"
     ]
    }
   ],
   "source": [
    "print(text_list[0])\n",
    "print(encoded_docs[0])"
   ]
  },
  {
   "cell_type": "markdown",
   "metadata": {},
   "source": [
    "<b> Each review has different lengths. But for any model input, we need to pass each review with same length. So we will pad the sequence to have average length of all reviews. This is done by calling pad_sequences function which gives following output. </b>\n"
   ]
  },
  {
   "cell_type": "code",
   "execution_count": 49,
   "metadata": {},
   "outputs": [
    {
     "name": "stdout",
     "output_type": "stream",
     "text": [
      "[   0    0    0    0    0    0    0    0    0    0    0    0    0    0\n",
      "    0    0    0    0    0    0    0    0    0    0    0    0    0    0\n",
      "    0    0    0    0    0    0    0    0    0    0    0    0    0    0\n",
      "    0    0    0    0    0    0    0    0    0    0    0    0    0    0\n",
      "    0    0    0    0    0    0    0    0    0    0    0    0    0    0\n",
      "    0    0    0    0    0    0    0    0    0    0    0    0    0    0\n",
      "    0    0    0    0    0    0    0    0    0    0    0    0    0    0\n",
      "    0    0    0    0    0    0    0    0    0    0    0    0    0    0\n",
      "    0    0    0    0    0    0    0    0    0    0    0    0    0    0\n",
      "    0    0    0    0    0    0    0    0    0    0    0    0    0    0\n",
      "    0    0    0    0    0    0    0    0    0    0    0    0    0    0\n",
      "    0    0    0    0    0    0    0    0    0    0    0    0    0    0\n",
      "    0    0    0    0    0    0    0    0    0    0    0    0    0    0\n",
      "    0    0    0    0    0    0    0    0    0    0    0    0    0    0\n",
      "    0    0    0    0    0    0    0    0    0    0    0    0    0    0\n",
      "    0    0    0    0    0    0    0    0    0    0    0    0    0    0\n",
      "    0    0    0    0    0    0    0    0    0    0    0    0    0    0\n",
      "    0    0    0    0    0    0    0    0    0    0    0    0    0    0\n",
      "    0    0    0    0    0    0    0    0    0    0    0    0    0    0\n",
      "    0    0    0    0    0    0    0    0    0    0    0    0    0    0\n",
      "    0    0    0    0    0    0    0    0    0    0    0    0    0    0\n",
      "    0    0    0    0    0    0    0    0    0    0    0    0    0    0\n",
      "    0    0    0    0    0    0    0    0    0    0    0    0    0    0\n",
      "    0    0    0    0    0    0    0    0    0    0    0    0    0    0\n",
      "    0    0    0    0    0    0    0    0    0    0    0    0    0    0\n",
      "    0    0    2   16  121  306    7    1 5312  505  104   55  209    3\n",
      "   16  114   28   41    5   30    7   29  185    1   42  604   47   25\n",
      "    4 2646   57    4 1209  449    3    6  602   99   12 5500    8 1771\n",
      "    3   95 9094    9   42   99   57  134]\n"
     ]
    }
   ],
   "source": [
    "print(padded_sequence[0])"
   ]
  },
  {
   "cell_type": "markdown",
   "metadata": {},
   "source": [
    "<b> Now, we will use sequential model to implement LSTM. Following is the structure of LSTM. First, there is a embendding layer which is our input layer. Then output of the embedding layer is the input of LSTM layer. We will add dropout in each state to avoid overfitting conditions. We will use 50 units of LSTM. Dropout removes some elements of one layer of input at random. A common and important tool in RNNs is a recurrent dropout, which does not remove any inputs between layers but inputs between time steps. Just as with regular dropout, recurrent dropout has a regularizing effect and can prevent overfitting. Summary of model is shown below.</b>"
   ]
  },
  {
   "cell_type": "code",
   "execution_count": 51,
   "metadata": {},
   "outputs": [
    {
     "name": "stdout",
     "output_type": "stream",
     "text": [
      "Model: \"sequential_1\"\n",
      "_________________________________________________________________\n",
      "Layer (type)                 Output Shape              Param #   \n",
      "=================================================================\n",
      "embedding_1 (Embedding)      (None, 400, 32)           7704064   \n",
      "_________________________________________________________________\n",
      "spatial_dropout1d_1 (Spatial (None, 400, 32)           0         \n",
      "_________________________________________________________________\n",
      "lstm_1 (LSTM)                (None, 50)                16600     \n",
      "_________________________________________________________________\n",
      "dropout_1 (Dropout)          (None, 50)                0         \n",
      "_________________________________________________________________\n",
      "dense_1 (Dense)              (None, 1)                 51        \n",
      "=================================================================\n",
      "Total params: 7,720,715\n",
      "Trainable params: 7,720,715\n",
      "Non-trainable params: 0\n",
      "_________________________________________________________________\n",
      "None\n"
     ]
    }
   ],
   "source": [
    "embedding_vector_length = 32\n",
    "model = Sequential()\n",
    "model.add(Embedding(vocab_size, embedding_vector_length,     \n",
    "                                     input_length=400) )\n",
    "model.add(SpatialDropout1D(0.25))\n",
    "model.add(LSTM(50, dropout=0.5, recurrent_dropout=0.5))\n",
    "model.add(Dropout(0.2))\n",
    "model.add(Dense(1, activation='sigmoid'))\n",
    "model.compile(loss='binary_crossentropy',optimizer='adam', \n",
    "                           metrics=['accuracy'])\n",
    "print(model.summary())"
   ]
  },
  {
   "cell_type": "markdown",
   "metadata": {},
   "source": [
    "<b> Now we will train our model. We have divided our dataset into 80% training and 20% validation. We have use 5 epochs and each batch size is 32. The batch size is a hyperparameter that defines the number of samples to work through before updating the internal model parameters. A number of epochs means how many times you go through your training set. Model is updated each time batch_size is processed that means it can be updated multiple times during one epochs. We can see that we got around 94.7% accuracy with training data and 94.39% accuracy with validation data. So our model can predict 94% accurate results. </b>\n"
   ]
  },
  {
   "cell_type": "code",
   "execution_count": 55,
   "metadata": {},
   "outputs": [
    {
     "name": "stdout",
     "output_type": "stream",
     "text": [
      "Train on 454728 samples, validate on 113683 samples\n",
      "Epoch 1/5\n",
      "454728/454728 [==============================] - 5298s 12ms/sample - loss: 0.2486 - accuracy: 0.9016 - val_loss: 0.1822 - val_accuracy: 0.9268\n",
      "Epoch 2/5\n",
      "454728/454728 [==============================] - 8190s 18ms/sample - loss: 0.1842 - accuracy: 0.9266 - val_loss: 0.1599 - val_accuracy: 0.9365\n",
      "Epoch 3/5\n",
      "454728/454728 [==============================] - 5484s 12ms/sample - loss: 0.1607 - accuracy: 0.9369 - val_loss: 0.1553 - val_accuracy: 0.9391\n",
      "Epoch 4/5\n",
      "454728/454728 [==============================] - 5141s 11ms/sample - loss: 0.1469 - accuracy: 0.9429 - val_loss: 0.1493 - val_accuracy: 0.9427\n",
      "Epoch 5/5\n",
      "454728/454728 [==============================] - 5137s 11ms/sample - loss: 0.1373 - accuracy: 0.9470 - val_loss: 0.1461 - val_accuracy: 0.9439\n"
     ]
    }
   ],
   "source": [
    "history = model.fit(padded_sequence,np.array(dataset.Sentiment.to_list()),validation_split=0.2, epochs=5, batch_size=32)"
   ]
  },
  {
   "cell_type": "markdown",
   "metadata": {},
   "source": [
    "<b> We will save our trained model into .h5 format to use any time. So now our model is trained and now we need to test our model. </b>"
   ]
  },
  {
   "cell_type": "code",
   "execution_count": 111,
   "metadata": {},
   "outputs": [],
   "source": [
    "model.save('my_model.h5') \n",
    "model = tf.keras.models.load_model('my_model.h5')"
   ]
  },
  {
   "cell_type": "markdown",
   "metadata": {},
   "source": [
    "<b> we will plot the accuracy graph as well as loss graph for each epoch to see how result change at each epochs. The result is as follows</b>"
   ]
  },
  {
   "cell_type": "code",
   "execution_count": 112,
   "metadata": {},
   "outputs": [
    {
     "data": {
      "image/png": "[encoded data removed]",
      "text/plain": [
       "<Figure size 432x288 with 1 Axes>"
      ]
     },
     "metadata": {
      "needs_background": "light"
     },
     "output_type": "display_data"
    },
    {
     "data": {
      "image/png": "[encoded data removed]",
      "text/plain": [
       "<Figure size 432x288 with 1 Axes>"
      ]
     },
     "metadata": {
      "needs_background": "light"
     },
     "output_type": "display_data"
    }
   ],
   "source": [
    "plt.plot(range(1,6),history.history['accuracy'], label='Training')\n",
    "plt.plot(range(1,6),history.history['val_accuracy'], label='Validation')\n",
    "plt.legend()\n",
    "plt.title('Accuracy Graph')\n",
    "plt.show()\n",
    "\n",
    "plt.plot(range(1,6),history.history['loss'], label='Training')\n",
    "plt.plot(range(1,6),history.history['val_loss'], label='Validation')\n",
    "plt.legend()\n",
    "plt.title('Loss Graph')\n",
    "plt.show()"
   ]
  },
  {
   "cell_type": "markdown",
   "metadata": {},
   "source": [
    "## 7) Testing our model\n",
    "### 1)"
   ]
  },
  {
   "cell_type": "code",
   "execution_count": 269,
   "metadata": {},
   "outputs": [
    {
     "name": "stdout",
     "output_type": "stream",
     "text": [
      "Sentiment :- Negative -> 0 & Postive -> 1\n",
      "predictied result -> 1 & actual result -> 1\n"
     ]
    }
   ],
   "source": [
    "test_word =\"This movie had the best acting and the dialogue was so good. I loved it.\"\n",
    "actual_result = 1\n",
    "tw = tokenizer.texts_to_sequences([test_word])\n",
    "tw = pad_sequences(tw,maxlen=400)\n",
    "prediction = int(model.predict(tw).round().item())\n",
    "print(\"Sentiment :- Negative -> 0 & Postive -> 1\")\n",
    "print(\"predictied result -> {} & actual result -> {}\".format(prediction,actual_result))"
   ]
  },
  {
   "cell_type": "markdown",
   "metadata": {},
   "source": [
    "## 2)"
   ]
  },
  {
   "cell_type": "code",
   "execution_count": 270,
   "metadata": {},
   "outputs": [
    {
     "name": "stdout",
     "output_type": "stream",
     "text": [
      "Sentiment :- Negative -> 0 & Postive -> 1\n",
      "predictied result -> 1 & actual result -> 1\n"
     ]
    }
   ],
   "source": [
    "test_word =\"When I use my computer for long periods of time, I usually start to cramp up in my hand. This wrist brace has helped my hand so I don't have that problem anymore. It makes it more comfortable and easy to feel like it is helping the structure of my hand. Really worth the purchase, and very cost effective. Think anyone using computer for long periods of times should use this to avoid damage to your hand.\"\n",
    "actual_result = 1\n",
    "tw = tokenizer.texts_to_sequences([test_word])\n",
    "tw = pad_sequences(tw,maxlen=400)\n",
    "prediction = int(model.predict(tw).round().item())\n",
    "print(\"Sentiment :- Negative -> 0 & Postive -> 1\")\n",
    "print(\"predictied result -> {} & actual result -> {}\".format(prediction,actual_result))"
   ]
  },
  {
   "cell_type": "markdown",
   "metadata": {},
   "source": [
    "## 3) "
   ]
  },
  {
   "cell_type": "code",
   "execution_count": 268,
   "metadata": {},
   "outputs": [
    {
     "name": "stdout",
     "output_type": "stream",
     "text": [
      "Sentiment :- Negative -> 0 & Postive -> 1\n",
      "predictied result: 0 & actual result: 0\n"
     ]
    }
   ],
   "source": [
    "test_word =\"I was excited when I unpacked this product. It appeared to be a lightweight and clever solution to my medical issue. Unfortunately, it is made of very stretchable rubber. Once in place with just the right amount of tightness, it 'gives' and becomes loose after 5 minutes or so. I found myself having to unwrap it and re-install frequently. It didn't get the job done, so I returned it.\"\n",
    "actual_result = 0\n",
    "tw = tokenizer.texts_to_sequences([test_word])\n",
    "tw = pad_sequences(tw,maxlen=400)\n",
    "prediction = int(model.predict(tw).round().item())\n",
    "print(\"Sentiment :- Negative -> 0 & Postive -> 1\")\n",
    "print(\"predictied result: {} & actual result: {}\".format(prediction,actual_result))"
   ]
  },
  {
   "cell_type": "markdown",
   "metadata": {},
   "source": [
    "<b> So we have successfully implemented sentiment analysis using LSTM algorithm on Amazon product review dataset and got 94% accuracy. </b>"
   ]
  }
 ],
 "metadata": {
  "kernelspec": {
   "display_name": "Python 3",
   "language": "python",
   "name": "python3"
  },
  "language_info": {
   "codemirror_mode": {
    "name": "ipython",
    "version": 3
   },
   "file_extension": ".py",
   "mimetype": "text/x-python",
   "name": "python",
   "nbconvert_exporter": "python",
   "pygments_lexer": "ipython3",
   "version": "3.7.4"
  }
 },
 "nbformat": 4,
 "nbformat_minor": 2
}
